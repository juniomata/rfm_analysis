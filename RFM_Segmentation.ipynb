{
 "cells": [
  {
   "cell_type": "code",
   "execution_count": 1,
   "metadata": {},
   "outputs": [],
   "source": [
    "import pandas as pd\n",
    "import matplotlib.pyplot as plt\n",
    "import seaborn as sns"
   ]
  },
  {
   "cell_type": "code",
   "execution_count": 2,
   "metadata": {},
   "outputs": [
    {
     "data": {
      "text/html": [
       "<div>\n",
       "<style scoped>\n",
       "    .dataframe tbody tr th:only-of-type {\n",
       "        vertical-align: middle;\n",
       "    }\n",
       "\n",
       "    .dataframe tbody tr th {\n",
       "        vertical-align: top;\n",
       "    }\n",
       "\n",
       "    .dataframe thead th {\n",
       "        text-align: right;\n",
       "    }\n",
       "</style>\n",
       "<table border=\"1\" class=\"dataframe\">\n",
       "  <thead>\n",
       "    <tr style=\"text-align: right;\">\n",
       "      <th></th>\n",
       "      <th>Invoice</th>\n",
       "      <th>StockCode</th>\n",
       "      <th>Description</th>\n",
       "      <th>Quantity</th>\n",
       "      <th>InvoiceDate</th>\n",
       "      <th>Price</th>\n",
       "      <th>Customer ID</th>\n",
       "      <th>Country</th>\n",
       "    </tr>\n",
       "  </thead>\n",
       "  <tbody>\n",
       "    <tr>\n",
       "      <th>0</th>\n",
       "      <td>489434</td>\n",
       "      <td>85048</td>\n",
       "      <td>15CM CHRISTMAS GLASS BALL 20 LIGHTS</td>\n",
       "      <td>12</td>\n",
       "      <td>2009-12-01 07:45:00</td>\n",
       "      <td>6.95</td>\n",
       "      <td>13085.0</td>\n",
       "      <td>United Kingdom</td>\n",
       "    </tr>\n",
       "    <tr>\n",
       "      <th>1</th>\n",
       "      <td>489434</td>\n",
       "      <td>79323P</td>\n",
       "      <td>PINK CHERRY LIGHTS</td>\n",
       "      <td>12</td>\n",
       "      <td>2009-12-01 07:45:00</td>\n",
       "      <td>6.75</td>\n",
       "      <td>13085.0</td>\n",
       "      <td>United Kingdom</td>\n",
       "    </tr>\n",
       "    <tr>\n",
       "      <th>2</th>\n",
       "      <td>489434</td>\n",
       "      <td>79323W</td>\n",
       "      <td>WHITE CHERRY LIGHTS</td>\n",
       "      <td>12</td>\n",
       "      <td>2009-12-01 07:45:00</td>\n",
       "      <td>6.75</td>\n",
       "      <td>13085.0</td>\n",
       "      <td>United Kingdom</td>\n",
       "    </tr>\n",
       "    <tr>\n",
       "      <th>3</th>\n",
       "      <td>489434</td>\n",
       "      <td>22041</td>\n",
       "      <td>RECORD FRAME 7\" SINGLE SIZE</td>\n",
       "      <td>48</td>\n",
       "      <td>2009-12-01 07:45:00</td>\n",
       "      <td>2.10</td>\n",
       "      <td>13085.0</td>\n",
       "      <td>United Kingdom</td>\n",
       "    </tr>\n",
       "    <tr>\n",
       "      <th>4</th>\n",
       "      <td>489434</td>\n",
       "      <td>21232</td>\n",
       "      <td>STRAWBERRY CERAMIC TRINKET BOX</td>\n",
       "      <td>24</td>\n",
       "      <td>2009-12-01 07:45:00</td>\n",
       "      <td>1.25</td>\n",
       "      <td>13085.0</td>\n",
       "      <td>United Kingdom</td>\n",
       "    </tr>\n",
       "  </tbody>\n",
       "</table>\n",
       "</div>"
      ],
      "text/plain": [
       "  Invoice StockCode                          Description  Quantity  \\\n",
       "0  489434     85048  15CM CHRISTMAS GLASS BALL 20 LIGHTS        12   \n",
       "1  489434    79323P                   PINK CHERRY LIGHTS        12   \n",
       "2  489434    79323W                  WHITE CHERRY LIGHTS        12   \n",
       "3  489434     22041         RECORD FRAME 7\" SINGLE SIZE         48   \n",
       "4  489434     21232       STRAWBERRY CERAMIC TRINKET BOX        24   \n",
       "\n",
       "           InvoiceDate  Price  Customer ID         Country  \n",
       "0  2009-12-01 07:45:00   6.95      13085.0  United Kingdom  \n",
       "1  2009-12-01 07:45:00   6.75      13085.0  United Kingdom  \n",
       "2  2009-12-01 07:45:00   6.75      13085.0  United Kingdom  \n",
       "3  2009-12-01 07:45:00   2.10      13085.0  United Kingdom  \n",
       "4  2009-12-01 07:45:00   1.25      13085.0  United Kingdom  "
      ]
     },
     "execution_count": 2,
     "metadata": {},
     "output_type": "execute_result"
    }
   ],
   "source": [
    "dataset = pd.read_csv('dataset.csv')\n",
    "dataset.head()"
   ]
  },
  {
   "cell_type": "code",
   "execution_count": 3,
   "metadata": {},
   "outputs": [
    {
     "name": "stdout",
     "output_type": "stream",
     "text": [
      "<class 'pandas.core.frame.DataFrame'>\n",
      "RangeIndex: 1067371 entries, 0 to 1067370\n",
      "Data columns (total 8 columns):\n",
      " #   Column       Non-Null Count    Dtype  \n",
      "---  ------       --------------    -----  \n",
      " 0   Invoice      1067371 non-null  object \n",
      " 1   StockCode    1067371 non-null  object \n",
      " 2   Description  1062989 non-null  object \n",
      " 3   Quantity     1067371 non-null  int64  \n",
      " 4   InvoiceDate  1067371 non-null  object \n",
      " 5   Price        1067371 non-null  float64\n",
      " 6   Customer ID  824364 non-null   float64\n",
      " 7   Country      1067371 non-null  object \n",
      "dtypes: float64(2), int64(1), object(5)\n",
      "memory usage: 65.1+ MB\n"
     ]
    }
   ],
   "source": [
    "dataset.info()"
   ]
  },
  {
   "cell_type": "code",
   "execution_count": 4,
   "metadata": {},
   "outputs": [
    {
     "data": {
      "text/plain": [
       "(1067371, 8)"
      ]
     },
     "execution_count": 4,
     "metadata": {},
     "output_type": "execute_result"
    }
   ],
   "source": [
    "dataset.shape"
   ]
  },
  {
   "cell_type": "code",
   "execution_count": 5,
   "metadata": {},
   "outputs": [
    {
     "data": {
      "text/plain": [
       "Invoice             0\n",
       "StockCode           0\n",
       "Description      4382\n",
       "Quantity            0\n",
       "InvoiceDate         0\n",
       "Price               0\n",
       "Customer ID    243007\n",
       "Country             0\n",
       "dtype: int64"
      ]
     },
     "execution_count": 5,
     "metadata": {},
     "output_type": "execute_result"
    }
   ],
   "source": [
    "dataset.isna().sum()"
   ]
  },
  {
   "cell_type": "code",
   "execution_count": 6,
   "metadata": {},
   "outputs": [],
   "source": [
    "dataset.dropna(subset=['Customer ID'], inplace=True)"
   ]
  },
  {
   "cell_type": "code",
   "execution_count": 7,
   "metadata": {},
   "outputs": [
    {
     "data": {
      "text/plain": [
       "Invoice        44876\n",
       "StockCode       4646\n",
       "Description     5299\n",
       "Quantity         643\n",
       "InvoiceDate    41439\n",
       "Price           1022\n",
       "Customer ID     5942\n",
       "Country           41\n",
       "dtype: int64"
      ]
     },
     "execution_count": 7,
     "metadata": {},
     "output_type": "execute_result"
    }
   ],
   "source": [
    "dataset.nunique()"
   ]
  },
  {
   "cell_type": "markdown",
   "metadata": {},
   "source": [
    "## data prep"
   ]
  },
  {
   "cell_type": "code",
   "execution_count": 8,
   "metadata": {},
   "outputs": [],
   "source": [
    "dataset['InvoiceDate'] = pd.to_datetime(dataset['InvoiceDate'])\n",
    "dataset['InvoiceDate'] = dataset['InvoiceDate'].dt.date"
   ]
  },
  {
   "cell_type": "code",
   "execution_count": 9,
   "metadata": {},
   "outputs": [],
   "source": [
    "dataset['Amount'] = dataset['Price'] * dataset['Quantity']"
   ]
  },
  {
   "cell_type": "code",
   "execution_count": 10,
   "metadata": {},
   "outputs": [
    {
     "data": {
      "text/html": [
       "<div>\n",
       "<style scoped>\n",
       "    .dataframe tbody tr th:only-of-type {\n",
       "        vertical-align: middle;\n",
       "    }\n",
       "\n",
       "    .dataframe tbody tr th {\n",
       "        vertical-align: top;\n",
       "    }\n",
       "\n",
       "    .dataframe thead th {\n",
       "        text-align: right;\n",
       "    }\n",
       "</style>\n",
       "<table border=\"1\" class=\"dataframe\">\n",
       "  <thead>\n",
       "    <tr style=\"text-align: right;\">\n",
       "      <th></th>\n",
       "      <th>Invoice</th>\n",
       "      <th>StockCode</th>\n",
       "      <th>Description</th>\n",
       "      <th>Quantity</th>\n",
       "      <th>InvoiceDate</th>\n",
       "      <th>Price</th>\n",
       "      <th>Customer ID</th>\n",
       "      <th>Country</th>\n",
       "      <th>Amount</th>\n",
       "    </tr>\n",
       "  </thead>\n",
       "  <tbody>\n",
       "    <tr>\n",
       "      <th>0</th>\n",
       "      <td>489434</td>\n",
       "      <td>85048</td>\n",
       "      <td>15CM CHRISTMAS GLASS BALL 20 LIGHTS</td>\n",
       "      <td>12</td>\n",
       "      <td>2009-12-01</td>\n",
       "      <td>6.95</td>\n",
       "      <td>13085.0</td>\n",
       "      <td>United Kingdom</td>\n",
       "      <td>83.4</td>\n",
       "    </tr>\n",
       "    <tr>\n",
       "      <th>1</th>\n",
       "      <td>489434</td>\n",
       "      <td>79323P</td>\n",
       "      <td>PINK CHERRY LIGHTS</td>\n",
       "      <td>12</td>\n",
       "      <td>2009-12-01</td>\n",
       "      <td>6.75</td>\n",
       "      <td>13085.0</td>\n",
       "      <td>United Kingdom</td>\n",
       "      <td>81.0</td>\n",
       "    </tr>\n",
       "  </tbody>\n",
       "</table>\n",
       "</div>"
      ],
      "text/plain": [
       "  Invoice StockCode                          Description  Quantity  \\\n",
       "0  489434     85048  15CM CHRISTMAS GLASS BALL 20 LIGHTS        12   \n",
       "1  489434    79323P                   PINK CHERRY LIGHTS        12   \n",
       "\n",
       "  InvoiceDate  Price  Customer ID         Country  Amount  \n",
       "0  2009-12-01   6.95      13085.0  United Kingdom    83.4  \n",
       "1  2009-12-01   6.75      13085.0  United Kingdom    81.0  "
      ]
     },
     "execution_count": 10,
     "metadata": {},
     "output_type": "execute_result"
    }
   ],
   "source": [
    "dataset.head(2)"
   ]
  },
  {
   "cell_type": "code",
   "execution_count": 11,
   "metadata": {},
   "outputs": [
    {
     "data": {
      "text/html": [
       "<div>\n",
       "<style scoped>\n",
       "    .dataframe tbody tr th:only-of-type {\n",
       "        vertical-align: middle;\n",
       "    }\n",
       "\n",
       "    .dataframe tbody tr th {\n",
       "        vertical-align: top;\n",
       "    }\n",
       "\n",
       "    .dataframe thead th {\n",
       "        text-align: right;\n",
       "    }\n",
       "</style>\n",
       "<table border=\"1\" class=\"dataframe\">\n",
       "  <thead>\n",
       "    <tr style=\"text-align: right;\">\n",
       "      <th></th>\n",
       "      <th>Quantity</th>\n",
       "      <th>Price</th>\n",
       "      <th>Customer ID</th>\n",
       "      <th>Amount</th>\n",
       "    </tr>\n",
       "  </thead>\n",
       "  <tbody>\n",
       "    <tr>\n",
       "      <th>count</th>\n",
       "      <td>824364.000000</td>\n",
       "      <td>824364.000000</td>\n",
       "      <td>824364.000000</td>\n",
       "      <td>824364.000000</td>\n",
       "    </tr>\n",
       "    <tr>\n",
       "      <th>mean</th>\n",
       "      <td>12.414574</td>\n",
       "      <td>3.676800</td>\n",
       "      <td>15324.638504</td>\n",
       "      <td>20.195317</td>\n",
       "    </tr>\n",
       "    <tr>\n",
       "      <th>std</th>\n",
       "      <td>188.976099</td>\n",
       "      <td>70.241388</td>\n",
       "      <td>1697.464450</td>\n",
       "      <td>308.685001</td>\n",
       "    </tr>\n",
       "    <tr>\n",
       "      <th>min</th>\n",
       "      <td>-80995.000000</td>\n",
       "      <td>0.000000</td>\n",
       "      <td>12346.000000</td>\n",
       "      <td>-168469.600000</td>\n",
       "    </tr>\n",
       "    <tr>\n",
       "      <th>25%</th>\n",
       "      <td>2.000000</td>\n",
       "      <td>1.250000</td>\n",
       "      <td>13975.000000</td>\n",
       "      <td>4.250000</td>\n",
       "    </tr>\n",
       "    <tr>\n",
       "      <th>50%</th>\n",
       "      <td>5.000000</td>\n",
       "      <td>1.950000</td>\n",
       "      <td>15255.000000</td>\n",
       "      <td>11.250000</td>\n",
       "    </tr>\n",
       "    <tr>\n",
       "      <th>75%</th>\n",
       "      <td>12.000000</td>\n",
       "      <td>3.750000</td>\n",
       "      <td>16797.000000</td>\n",
       "      <td>19.500000</td>\n",
       "    </tr>\n",
       "    <tr>\n",
       "      <th>max</th>\n",
       "      <td>80995.000000</td>\n",
       "      <td>38970.000000</td>\n",
       "      <td>18287.000000</td>\n",
       "      <td>168469.600000</td>\n",
       "    </tr>\n",
       "  </tbody>\n",
       "</table>\n",
       "</div>"
      ],
      "text/plain": [
       "            Quantity          Price    Customer ID         Amount\n",
       "count  824364.000000  824364.000000  824364.000000  824364.000000\n",
       "mean       12.414574       3.676800   15324.638504      20.195317\n",
       "std       188.976099      70.241388    1697.464450     308.685001\n",
       "min    -80995.000000       0.000000   12346.000000 -168469.600000\n",
       "25%         2.000000       1.250000   13975.000000       4.250000\n",
       "50%         5.000000       1.950000   15255.000000      11.250000\n",
       "75%        12.000000       3.750000   16797.000000      19.500000\n",
       "max     80995.000000   38970.000000   18287.000000  168469.600000"
      ]
     },
     "execution_count": 11,
     "metadata": {},
     "output_type": "execute_result"
    }
   ],
   "source": [
    "#cek amount negative\n",
    "\n",
    "\n",
    "dataset.describe()"
   ]
  },
  {
   "cell_type": "code",
   "execution_count": 12,
   "metadata": {},
   "outputs": [],
   "source": [
    "dataset = dataset[dataset['Quantity']>0]"
   ]
  },
  {
   "cell_type": "markdown",
   "metadata": {},
   "source": [
    "### Get Value Recency, Freq, Monetary"
   ]
  },
  {
   "cell_type": "code",
   "execution_count": 13,
   "metadata": {},
   "outputs": [
    {
     "data": {
      "text/plain": [
       "datetime.date(2011, 12, 9)"
      ]
     },
     "execution_count": 13,
     "metadata": {},
     "output_type": "execute_result"
    }
   ],
   "source": [
    "# Recency : selisih waktu transaksi terakhir per customer dengan tanggal data diambil\n",
    "\n",
    "\n",
    "max_date = dataset['InvoiceDate'].max()\n",
    "max_date"
   ]
  },
  {
   "cell_type": "code",
   "execution_count": 14,
   "metadata": {},
   "outputs": [],
   "source": [
    "Cust_aggregate = dataset.groupby('Customer ID').agg({'InvoiceDate':'max','Invoice':'count', 'Amount':'sum'}).reset_index()"
   ]
  },
  {
   "cell_type": "code",
   "execution_count": 15,
   "metadata": {},
   "outputs": [
    {
     "data": {
      "text/html": [
       "<div>\n",
       "<style scoped>\n",
       "    .dataframe tbody tr th:only-of-type {\n",
       "        vertical-align: middle;\n",
       "    }\n",
       "\n",
       "    .dataframe tbody tr th {\n",
       "        vertical-align: top;\n",
       "    }\n",
       "\n",
       "    .dataframe thead th {\n",
       "        text-align: right;\n",
       "    }\n",
       "</style>\n",
       "<table border=\"1\" class=\"dataframe\">\n",
       "  <thead>\n",
       "    <tr style=\"text-align: right;\">\n",
       "      <th></th>\n",
       "      <th>Customer ID</th>\n",
       "      <th>InvoiceDate</th>\n",
       "      <th>Invoice</th>\n",
       "      <th>Amount</th>\n",
       "    </tr>\n",
       "  </thead>\n",
       "  <tbody>\n",
       "    <tr>\n",
       "      <th>0</th>\n",
       "      <td>12346.0</td>\n",
       "      <td>2011-01-18</td>\n",
       "      <td>34</td>\n",
       "      <td>77556.46</td>\n",
       "    </tr>\n",
       "    <tr>\n",
       "      <th>1</th>\n",
       "      <td>12347.0</td>\n",
       "      <td>2011-12-07</td>\n",
       "      <td>253</td>\n",
       "      <td>5633.32</td>\n",
       "    </tr>\n",
       "    <tr>\n",
       "      <th>2</th>\n",
       "      <td>12348.0</td>\n",
       "      <td>2011-09-25</td>\n",
       "      <td>51</td>\n",
       "      <td>2019.40</td>\n",
       "    </tr>\n",
       "    <tr>\n",
       "      <th>3</th>\n",
       "      <td>12349.0</td>\n",
       "      <td>2011-11-21</td>\n",
       "      <td>175</td>\n",
       "      <td>4428.69</td>\n",
       "    </tr>\n",
       "    <tr>\n",
       "      <th>4</th>\n",
       "      <td>12350.0</td>\n",
       "      <td>2011-02-02</td>\n",
       "      <td>17</td>\n",
       "      <td>334.40</td>\n",
       "    </tr>\n",
       "  </tbody>\n",
       "</table>\n",
       "</div>"
      ],
      "text/plain": [
       "   Customer ID InvoiceDate  Invoice    Amount\n",
       "0      12346.0  2011-01-18       34  77556.46\n",
       "1      12347.0  2011-12-07      253   5633.32\n",
       "2      12348.0  2011-09-25       51   2019.40\n",
       "3      12349.0  2011-11-21      175   4428.69\n",
       "4      12350.0  2011-02-02       17    334.40"
      ]
     },
     "execution_count": 15,
     "metadata": {},
     "output_type": "execute_result"
    }
   ],
   "source": [
    "Cust_aggregate.head()"
   ]
  },
  {
   "cell_type": "code",
   "execution_count": 16,
   "metadata": {},
   "outputs": [],
   "source": [
    "Cust_aggregate['Recency'] = (max_date - Cust_aggregate['InvoiceDate']).dt.days"
   ]
  },
  {
   "cell_type": "code",
   "execution_count": 17,
   "metadata": {},
   "outputs": [],
   "source": [
    "Cust_aggregate.rename({'Invoice':'Freq','Amount':'Monetary'}, axis=1, inplace=True)"
   ]
  },
  {
   "cell_type": "code",
   "execution_count": 18,
   "metadata": {},
   "outputs": [
    {
     "data": {
      "text/html": [
       "<div>\n",
       "<style scoped>\n",
       "    .dataframe tbody tr th:only-of-type {\n",
       "        vertical-align: middle;\n",
       "    }\n",
       "\n",
       "    .dataframe tbody tr th {\n",
       "        vertical-align: top;\n",
       "    }\n",
       "\n",
       "    .dataframe thead th {\n",
       "        text-align: right;\n",
       "    }\n",
       "</style>\n",
       "<table border=\"1\" class=\"dataframe\">\n",
       "  <thead>\n",
       "    <tr style=\"text-align: right;\">\n",
       "      <th></th>\n",
       "      <th>Customer ID</th>\n",
       "      <th>Freq</th>\n",
       "      <th>Monetary</th>\n",
       "      <th>Recency</th>\n",
       "    </tr>\n",
       "  </thead>\n",
       "  <tbody>\n",
       "    <tr>\n",
       "      <th>count</th>\n",
       "      <td>5881.000000</td>\n",
       "      <td>5881.000000</td>\n",
       "      <td>5881.000000</td>\n",
       "      <td>5881.000000</td>\n",
       "    </tr>\n",
       "    <tr>\n",
       "      <th>mean</th>\n",
       "      <td>15314.674205</td>\n",
       "      <td>136.986907</td>\n",
       "      <td>3017.076888</td>\n",
       "      <td>200.992858</td>\n",
       "    </tr>\n",
       "    <tr>\n",
       "      <th>std</th>\n",
       "      <td>1715.429759</td>\n",
       "      <td>353.779018</td>\n",
       "      <td>14734.128619</td>\n",
       "      <td>209.489651</td>\n",
       "    </tr>\n",
       "    <tr>\n",
       "      <th>min</th>\n",
       "      <td>12346.000000</td>\n",
       "      <td>1.000000</td>\n",
       "      <td>0.000000</td>\n",
       "      <td>0.000000</td>\n",
       "    </tr>\n",
       "    <tr>\n",
       "      <th>25%</th>\n",
       "      <td>13833.000000</td>\n",
       "      <td>21.000000</td>\n",
       "      <td>347.800000</td>\n",
       "      <td>25.000000</td>\n",
       "    </tr>\n",
       "    <tr>\n",
       "      <th>50%</th>\n",
       "      <td>15313.000000</td>\n",
       "      <td>53.000000</td>\n",
       "      <td>897.620000</td>\n",
       "      <td>95.000000</td>\n",
       "    </tr>\n",
       "    <tr>\n",
       "      <th>75%</th>\n",
       "      <td>16797.000000</td>\n",
       "      <td>142.000000</td>\n",
       "      <td>2304.180000</td>\n",
       "      <td>379.000000</td>\n",
       "    </tr>\n",
       "    <tr>\n",
       "      <th>max</th>\n",
       "      <td>18287.000000</td>\n",
       "      <td>12890.000000</td>\n",
       "      <td>608821.650000</td>\n",
       "      <td>738.000000</td>\n",
       "    </tr>\n",
       "  </tbody>\n",
       "</table>\n",
       "</div>"
      ],
      "text/plain": [
       "        Customer ID          Freq       Monetary      Recency\n",
       "count   5881.000000   5881.000000    5881.000000  5881.000000\n",
       "mean   15314.674205    136.986907    3017.076888   200.992858\n",
       "std     1715.429759    353.779018   14734.128619   209.489651\n",
       "min    12346.000000      1.000000       0.000000     0.000000\n",
       "25%    13833.000000     21.000000     347.800000    25.000000\n",
       "50%    15313.000000     53.000000     897.620000    95.000000\n",
       "75%    16797.000000    142.000000    2304.180000   379.000000\n",
       "max    18287.000000  12890.000000  608821.650000   738.000000"
      ]
     },
     "execution_count": 18,
     "metadata": {},
     "output_type": "execute_result"
    }
   ],
   "source": [
    "Cust_aggregate.describe()"
   ]
  },
  {
   "cell_type": "code",
   "execution_count": 19,
   "metadata": {},
   "outputs": [
    {
     "data": {
      "image/png": "[encoded data removed]",
      "text/plain": [
       "<Figure size 576x432 with 1 Axes>"
      ]
     },
     "metadata": {
      "needs_background": "light"
     },
     "output_type": "display_data"
    }
   ],
   "source": [
    "fig, ax = plt.subplots(figsize=(8,6));\n",
    "Cust_aggregate.Freq.hist(bins=100,ax=ax)\n",
    "ax.set_title(\"Final Distribution of Frequency\", fontsize=16)\n",
    "ax.set_xlabel(\"Frequency\", fontsize=12);\n",
    "ax.set_ylabel(\"Counts\", fontsize=12);"
   ]
  },
  {
   "cell_type": "code",
   "execution_count": 20,
   "metadata": {},
   "outputs": [
    {
     "data": {
      "image/png": "[encoded data removed]",
      "text/plain": [
       "<Figure size 576x432 with 1 Axes>"
      ]
     },
     "metadata": {
      "needs_background": "light"
     },
     "output_type": "display_data"
    }
   ],
   "source": [
    "fig, ax = plt.subplots(figsize=(8,6));\n",
    "Cust_aggregate.Recency.hist(bins=100,ax=ax)\n",
    "ax.set_title(\"Final Distribution of Recency\", fontsize=16)\n",
    "ax.set_xlabel(\"Recency\", fontsize=12);\n",
    "ax.set_ylabel(\"Counts\", fontsize=12);"
   ]
  },
  {
   "cell_type": "code",
   "execution_count": 21,
   "metadata": {},
   "outputs": [
    {
     "data": {
      "image/png": "[encoded data removed]",
      "text/plain": [
       "<Figure size 576x432 with 1 Axes>"
      ]
     },
     "metadata": {
      "needs_background": "light"
     },
     "output_type": "display_data"
    }
   ],
   "source": [
    "fig, ax = plt.subplots(figsize=(8,6));\n",
    "Cust_aggregate.Monetary.hist(bins=100,ax=ax)\n",
    "ax.set_title(\"Final Distribution of Monetary\", fontsize=16)\n",
    "ax.set_xlabel(\"Monetary\", fontsize=12);\n",
    "ax.set_ylabel(\"Counts\", fontsize=12);"
   ]
  },
  {
   "cell_type": "code",
   "execution_count": 22,
   "metadata": {},
   "outputs": [],
   "source": [
    "#RFM - AR\n",
    "Cust_Age = dataset.groupby('Customer ID')['InvoiceDate'].min().reset_index()\n",
    "Cust_Age['Age'] = (max_date - Cust_Age['InvoiceDate']).dt.days"
   ]
  },
  {
   "cell_type": "code",
   "execution_count": 23,
   "metadata": {},
   "outputs": [
    {
     "data": {
      "text/html": [
       "<div>\n",
       "<style scoped>\n",
       "    .dataframe tbody tr th:only-of-type {\n",
       "        vertical-align: middle;\n",
       "    }\n",
       "\n",
       "    .dataframe tbody tr th {\n",
       "        vertical-align: top;\n",
       "    }\n",
       "\n",
       "    .dataframe thead th {\n",
       "        text-align: right;\n",
       "    }\n",
       "</style>\n",
       "<table border=\"1\" class=\"dataframe\">\n",
       "  <thead>\n",
       "    <tr style=\"text-align: right;\">\n",
       "      <th></th>\n",
       "      <th>Customer ID</th>\n",
       "      <th>InvoiceDate</th>\n",
       "      <th>Age</th>\n",
       "    </tr>\n",
       "  </thead>\n",
       "  <tbody>\n",
       "    <tr>\n",
       "      <th>0</th>\n",
       "      <td>12346.0</td>\n",
       "      <td>2009-12-14</td>\n",
       "      <td>725</td>\n",
       "    </tr>\n",
       "    <tr>\n",
       "      <th>1</th>\n",
       "      <td>12347.0</td>\n",
       "      <td>2010-10-31</td>\n",
       "      <td>404</td>\n",
       "    </tr>\n",
       "  </tbody>\n",
       "</table>\n",
       "</div>"
      ],
      "text/plain": [
       "   Customer ID InvoiceDate  Age\n",
       "0      12346.0  2009-12-14  725\n",
       "1      12347.0  2010-10-31  404"
      ]
     },
     "execution_count": 23,
     "metadata": {},
     "output_type": "execute_result"
    }
   ],
   "source": [
    "Cust_Age.head(2)"
   ]
  },
  {
   "cell_type": "code",
   "execution_count": 25,
   "metadata": {},
   "outputs": [],
   "source": [
    "Cust_return = dataset[['Customer ID','InvoiceDate']].drop_duplicates()\n",
    "Cust_return = Cust_return.sort_values(by=['Customer ID','InvoiceDate'],axis=0)\n",
    "Cust_return = Cust_return[['Customer ID','InvoiceDate']].drop_duplicates().set_index('Customer ID').diff()\n",
    "Cust_return['Nrow'] = Cust_return.groupby('Customer ID').cumcount()+1 "
   ]
  },
  {
   "cell_type": "code",
   "execution_count": 26,
   "metadata": {},
   "outputs": [
    {
     "data": {
      "text/html": [
       "<div>\n",
       "<style scoped>\n",
       "    .dataframe tbody tr th:only-of-type {\n",
       "        vertical-align: middle;\n",
       "    }\n",
       "\n",
       "    .dataframe tbody tr th {\n",
       "        vertical-align: top;\n",
       "    }\n",
       "\n",
       "    .dataframe thead th {\n",
       "        text-align: right;\n",
       "    }\n",
       "</style>\n",
       "<table border=\"1\" class=\"dataframe\">\n",
       "  <thead>\n",
       "    <tr style=\"text-align: right;\">\n",
       "      <th></th>\n",
       "      <th>InvoiceDate</th>\n",
       "      <th>Nrow</th>\n",
       "    </tr>\n",
       "    <tr>\n",
       "      <th>Customer ID</th>\n",
       "      <th></th>\n",
       "      <th></th>\n",
       "    </tr>\n",
       "  </thead>\n",
       "  <tbody>\n",
       "    <tr>\n",
       "      <th>12346.0</th>\n",
       "      <td>NaN</td>\n",
       "      <td>1</td>\n",
       "    </tr>\n",
       "    <tr>\n",
       "      <th>12346.0</th>\n",
       "      <td>4 days, 0:00:00</td>\n",
       "      <td>2</td>\n",
       "    </tr>\n",
       "    <tr>\n",
       "      <th>12346.0</th>\n",
       "      <td>17 days, 0:00:00</td>\n",
       "      <td>3</td>\n",
       "    </tr>\n",
       "    <tr>\n",
       "      <th>12346.0</th>\n",
       "      <td>10 days, 0:00:00</td>\n",
       "      <td>4</td>\n",
       "    </tr>\n",
       "    <tr>\n",
       "      <th>12346.0</th>\n",
       "      <td>8 days, 0:00:00</td>\n",
       "      <td>5</td>\n",
       "    </tr>\n",
       "    <tr>\n",
       "      <th>...</th>\n",
       "      <td>...</td>\n",
       "      <td>...</td>\n",
       "    </tr>\n",
       "    <tr>\n",
       "      <th>18287.0</th>\n",
       "      <td>127 days, 0:00:00</td>\n",
       "      <td>2</td>\n",
       "    </tr>\n",
       "    <tr>\n",
       "      <th>18287.0</th>\n",
       "      <td>62 days, 0:00:00</td>\n",
       "      <td>3</td>\n",
       "    </tr>\n",
       "    <tr>\n",
       "      <th>18287.0</th>\n",
       "      <td>181 days, 0:00:00</td>\n",
       "      <td>4</td>\n",
       "    </tr>\n",
       "    <tr>\n",
       "      <th>18287.0</th>\n",
       "      <td>143 days, 0:00:00</td>\n",
       "      <td>5</td>\n",
       "    </tr>\n",
       "    <tr>\n",
       "      <th>18287.0</th>\n",
       "      <td>16 days, 0:00:00</td>\n",
       "      <td>6</td>\n",
       "    </tr>\n",
       "  </tbody>\n",
       "</table>\n",
       "<p>33112 rows × 2 columns</p>\n",
       "</div>"
      ],
      "text/plain": [
       "                   InvoiceDate  Nrow\n",
       "Customer ID                         \n",
       "12346.0                    NaN     1\n",
       "12346.0        4 days, 0:00:00     2\n",
       "12346.0       17 days, 0:00:00     3\n",
       "12346.0       10 days, 0:00:00     4\n",
       "12346.0        8 days, 0:00:00     5\n",
       "...                        ...   ...\n",
       "18287.0      127 days, 0:00:00     2\n",
       "18287.0       62 days, 0:00:00     3\n",
       "18287.0      181 days, 0:00:00     4\n",
       "18287.0      143 days, 0:00:00     5\n",
       "18287.0       16 days, 0:00:00     6\n",
       "\n",
       "[33112 rows x 2 columns]"
      ]
     },
     "execution_count": 26,
     "metadata": {},
     "output_type": "execute_result"
    }
   ],
   "source": [
    "Cust_return"
   ]
  },
  {
   "cell_type": "code",
   "execution_count": 27,
   "metadata": {},
   "outputs": [
    {
     "data": {
      "text/plain": [
       "array([nan, datetime.timedelta(days=4), datetime.timedelta(days=17), ...,\n",
       "       datetime.timedelta(days=482), datetime.timedelta(days=547),\n",
       "       datetime.timedelta(days=411)], dtype=object)"
      ]
     },
     "execution_count": 27,
     "metadata": {},
     "output_type": "execute_result"
    }
   ],
   "source": [
    "Cust_return['InvoiceDate'].unique()"
   ]
  },
  {
   "cell_type": "code",
   "execution_count": 28,
   "metadata": {},
   "outputs": [],
   "source": [
    "Cust_return = Cust_return.sort_values(by='Customer ID').reset_index()"
   ]
  },
  {
   "cell_type": "code",
   "execution_count": 29,
   "metadata": {},
   "outputs": [
    {
     "data": {
      "text/html": [
       "<div>\n",
       "<style scoped>\n",
       "    .dataframe tbody tr th:only-of-type {\n",
       "        vertical-align: middle;\n",
       "    }\n",
       "\n",
       "    .dataframe tbody tr th {\n",
       "        vertical-align: top;\n",
       "    }\n",
       "\n",
       "    .dataframe thead th {\n",
       "        text-align: right;\n",
       "    }\n",
       "</style>\n",
       "<table border=\"1\" class=\"dataframe\">\n",
       "  <thead>\n",
       "    <tr style=\"text-align: right;\">\n",
       "      <th></th>\n",
       "      <th>Customer ID</th>\n",
       "      <th>InvoiceDate</th>\n",
       "      <th>Nrow</th>\n",
       "    </tr>\n",
       "  </thead>\n",
       "  <tbody>\n",
       "    <tr>\n",
       "      <th>0</th>\n",
       "      <td>12346.0</td>\n",
       "      <td>NaN</td>\n",
       "      <td>1</td>\n",
       "    </tr>\n",
       "    <tr>\n",
       "      <th>1</th>\n",
       "      <td>12346.0</td>\n",
       "      <td>4 days, 0:00:00</td>\n",
       "      <td>2</td>\n",
       "    </tr>\n",
       "    <tr>\n",
       "      <th>2</th>\n",
       "      <td>12346.0</td>\n",
       "      <td>17 days, 0:00:00</td>\n",
       "      <td>3</td>\n",
       "    </tr>\n",
       "    <tr>\n",
       "      <th>3</th>\n",
       "      <td>12346.0</td>\n",
       "      <td>10 days, 0:00:00</td>\n",
       "      <td>4</td>\n",
       "    </tr>\n",
       "    <tr>\n",
       "      <th>4</th>\n",
       "      <td>12346.0</td>\n",
       "      <td>8 days, 0:00:00</td>\n",
       "      <td>5</td>\n",
       "    </tr>\n",
       "    <tr>\n",
       "      <th>...</th>\n",
       "      <td>...</td>\n",
       "      <td>...</td>\n",
       "      <td>...</td>\n",
       "    </tr>\n",
       "    <tr>\n",
       "      <th>33107</th>\n",
       "      <td>18287.0</td>\n",
       "      <td>62 days, 0:00:00</td>\n",
       "      <td>3</td>\n",
       "    </tr>\n",
       "    <tr>\n",
       "      <th>33108</th>\n",
       "      <td>18287.0</td>\n",
       "      <td>143 days, 0:00:00</td>\n",
       "      <td>5</td>\n",
       "    </tr>\n",
       "    <tr>\n",
       "      <th>33109</th>\n",
       "      <td>18287.0</td>\n",
       "      <td>-95 days, 0:00:00</td>\n",
       "      <td>1</td>\n",
       "    </tr>\n",
       "    <tr>\n",
       "      <th>33110</th>\n",
       "      <td>18287.0</td>\n",
       "      <td>127 days, 0:00:00</td>\n",
       "      <td>2</td>\n",
       "    </tr>\n",
       "    <tr>\n",
       "      <th>33111</th>\n",
       "      <td>18287.0</td>\n",
       "      <td>16 days, 0:00:00</td>\n",
       "      <td>6</td>\n",
       "    </tr>\n",
       "  </tbody>\n",
       "</table>\n",
       "<p>33112 rows × 3 columns</p>\n",
       "</div>"
      ],
      "text/plain": [
       "       Customer ID        InvoiceDate  Nrow\n",
       "0          12346.0                NaN     1\n",
       "1          12346.0    4 days, 0:00:00     2\n",
       "2          12346.0   17 days, 0:00:00     3\n",
       "3          12346.0   10 days, 0:00:00     4\n",
       "4          12346.0    8 days, 0:00:00     5\n",
       "...            ...                ...   ...\n",
       "33107      18287.0   62 days, 0:00:00     3\n",
       "33108      18287.0  143 days, 0:00:00     5\n",
       "33109      18287.0  -95 days, 0:00:00     1\n",
       "33110      18287.0  127 days, 0:00:00     2\n",
       "33111      18287.0   16 days, 0:00:00     6\n",
       "\n",
       "[33112 rows x 3 columns]"
      ]
     },
     "execution_count": 29,
     "metadata": {},
     "output_type": "execute_result"
    }
   ],
   "source": [
    "Cust_return"
   ]
  },
  {
   "cell_type": "code",
   "execution_count": 53,
   "metadata": {},
   "outputs": [
    {
     "data": {
      "text/html": [
       "<div>\n",
       "<style scoped>\n",
       "    .dataframe tbody tr th:only-of-type {\n",
       "        vertical-align: middle;\n",
       "    }\n",
       "\n",
       "    .dataframe tbody tr th {\n",
       "        vertical-align: top;\n",
       "    }\n",
       "\n",
       "    .dataframe thead th {\n",
       "        text-align: right;\n",
       "    }\n",
       "</style>\n",
       "<table border=\"1\" class=\"dataframe\">\n",
       "  <thead>\n",
       "    <tr style=\"text-align: right;\">\n",
       "      <th></th>\n",
       "      <th>Customer ID</th>\n",
       "      <th>Invoice Date</th>\n",
       "      <th>Age</th>\n",
       "      <th>Return</th>\n",
       "      <th>Nrow</th>\n",
       "    </tr>\n",
       "  </thead>\n",
       "  <tbody>\n",
       "    <tr>\n",
       "      <th>0</th>\n",
       "      <td>12346.0</td>\n",
       "      <td>2009-12-14</td>\n",
       "      <td>725</td>\n",
       "      <td>NaN</td>\n",
       "      <td>1</td>\n",
       "    </tr>\n",
       "    <tr>\n",
       "      <th>1</th>\n",
       "      <td>12346.0</td>\n",
       "      <td>2009-12-14</td>\n",
       "      <td>725</td>\n",
       "      <td>4 days, 0:00:00</td>\n",
       "      <td>2</td>\n",
       "    </tr>\n",
       "    <tr>\n",
       "      <th>2</th>\n",
       "      <td>12346.0</td>\n",
       "      <td>2009-12-14</td>\n",
       "      <td>725</td>\n",
       "      <td>17 days, 0:00:00</td>\n",
       "      <td>3</td>\n",
       "    </tr>\n",
       "    <tr>\n",
       "      <th>3</th>\n",
       "      <td>12346.0</td>\n",
       "      <td>2009-12-14</td>\n",
       "      <td>725</td>\n",
       "      <td>10 days, 0:00:00</td>\n",
       "      <td>4</td>\n",
       "    </tr>\n",
       "    <tr>\n",
       "      <th>4</th>\n",
       "      <td>12346.0</td>\n",
       "      <td>2009-12-14</td>\n",
       "      <td>725</td>\n",
       "      <td>8 days, 0:00:00</td>\n",
       "      <td>5</td>\n",
       "    </tr>\n",
       "    <tr>\n",
       "      <th>...</th>\n",
       "      <td>...</td>\n",
       "      <td>...</td>\n",
       "      <td>...</td>\n",
       "      <td>...</td>\n",
       "      <td>...</td>\n",
       "    </tr>\n",
       "    <tr>\n",
       "      <th>33107</th>\n",
       "      <td>18287.0</td>\n",
       "      <td>2010-05-17</td>\n",
       "      <td>571</td>\n",
       "      <td>62 days, 0:00:00</td>\n",
       "      <td>3</td>\n",
       "    </tr>\n",
       "    <tr>\n",
       "      <th>33108</th>\n",
       "      <td>18287.0</td>\n",
       "      <td>2010-05-17</td>\n",
       "      <td>571</td>\n",
       "      <td>143 days, 0:00:00</td>\n",
       "      <td>5</td>\n",
       "    </tr>\n",
       "    <tr>\n",
       "      <th>33109</th>\n",
       "      <td>18287.0</td>\n",
       "      <td>2010-05-17</td>\n",
       "      <td>571</td>\n",
       "      <td>-95 days, 0:00:00</td>\n",
       "      <td>1</td>\n",
       "    </tr>\n",
       "    <tr>\n",
       "      <th>33110</th>\n",
       "      <td>18287.0</td>\n",
       "      <td>2010-05-17</td>\n",
       "      <td>571</td>\n",
       "      <td>127 days, 0:00:00</td>\n",
       "      <td>2</td>\n",
       "    </tr>\n",
       "    <tr>\n",
       "      <th>33111</th>\n",
       "      <td>18287.0</td>\n",
       "      <td>2010-05-17</td>\n",
       "      <td>571</td>\n",
       "      <td>16 days, 0:00:00</td>\n",
       "      <td>6</td>\n",
       "    </tr>\n",
       "  </tbody>\n",
       "</table>\n",
       "<p>33112 rows × 5 columns</p>\n",
       "</div>"
      ],
      "text/plain": [
       "       Customer ID Invoice Date  Age             Return  Nrow\n",
       "0          12346.0   2009-12-14  725                NaN     1\n",
       "1          12346.0   2009-12-14  725    4 days, 0:00:00     2\n",
       "2          12346.0   2009-12-14  725   17 days, 0:00:00     3\n",
       "3          12346.0   2009-12-14  725   10 days, 0:00:00     4\n",
       "4          12346.0   2009-12-14  725    8 days, 0:00:00     5\n",
       "...            ...          ...  ...                ...   ...\n",
       "33107      18287.0   2010-05-17  571   62 days, 0:00:00     3\n",
       "33108      18287.0   2010-05-17  571  143 days, 0:00:00     5\n",
       "33109      18287.0   2010-05-17  571  -95 days, 0:00:00     1\n",
       "33110      18287.0   2010-05-17  571  127 days, 0:00:00     2\n",
       "33111      18287.0   2010-05-17  571   16 days, 0:00:00     6\n",
       "\n",
       "[33112 rows x 5 columns]"
      ]
     },
     "execution_count": 53,
     "metadata": {},
     "output_type": "execute_result"
    }
   ],
   "source": [
    "Cust_Age_Return"
   ]
  },
  {
   "cell_type": "code",
   "execution_count": 30,
   "metadata": {},
   "outputs": [
    {
     "data": {
      "text/html": [
       "<div>\n",
       "<style scoped>\n",
       "    .dataframe tbody tr th:only-of-type {\n",
       "        vertical-align: middle;\n",
       "    }\n",
       "\n",
       "    .dataframe tbody tr th {\n",
       "        vertical-align: top;\n",
       "    }\n",
       "\n",
       "    .dataframe thead th {\n",
       "        text-align: right;\n",
       "    }\n",
       "</style>\n",
       "<table border=\"1\" class=\"dataframe\">\n",
       "  <thead>\n",
       "    <tr style=\"text-align: right;\">\n",
       "      <th></th>\n",
       "      <th>Customer ID</th>\n",
       "      <th>Invoice Date</th>\n",
       "      <th>Age</th>\n",
       "      <th>Return</th>\n",
       "      <th>Nrow</th>\n",
       "    </tr>\n",
       "  </thead>\n",
       "  <tbody>\n",
       "    <tr>\n",
       "      <th>0</th>\n",
       "      <td>12346.0</td>\n",
       "      <td>2009-12-14</td>\n",
       "      <td>725</td>\n",
       "      <td>NaN</td>\n",
       "      <td>1</td>\n",
       "    </tr>\n",
       "    <tr>\n",
       "      <th>1</th>\n",
       "      <td>12346.0</td>\n",
       "      <td>2009-12-14</td>\n",
       "      <td>725</td>\n",
       "      <td>4 days, 0:00:00</td>\n",
       "      <td>2</td>\n",
       "    </tr>\n",
       "  </tbody>\n",
       "</table>\n",
       "</div>"
      ],
      "text/plain": [
       "   Customer ID Invoice Date  Age           Return  Nrow\n",
       "0      12346.0   2009-12-14  725              NaN     1\n",
       "1      12346.0   2009-12-14  725  4 days, 0:00:00     2"
      ]
     },
     "execution_count": 30,
     "metadata": {},
     "output_type": "execute_result"
    }
   ],
   "source": [
    "Cust_Age_Return = pd.merge(Cust_Age, Cust_return, on=\"Customer ID\")\n",
    "Cust_Age_Return.columns =['Customer ID','Invoice Date', 'Age','Return','Nrow']\n",
    "Cust_Age_Return.head(2)"
   ]
  },
  {
   "cell_type": "code",
   "execution_count": 31,
   "metadata": {},
   "outputs": [
    {
     "data": {
      "text/plain": [
       "Customer ID     0\n",
       "InvoiceDate     0\n",
       "Freq            0\n",
       "Monetary        0\n",
       "Recency         0\n",
       "Invoice Date    0\n",
       "Age             0\n",
       "Return          1\n",
       "Nrow            0\n",
       "dtype: int64"
      ]
     },
     "execution_count": 31,
     "metadata": {},
     "output_type": "execute_result"
    }
   ],
   "source": [
    "#merge with data Cust_aggregate\n",
    "Cust_aggregate = pd.merge(Cust_aggregate, Cust_Age_Return, on=\"Customer ID\", how=\"left\")\n",
    "Cust_aggregate.isna().sum()"
   ]
  },
  {
   "cell_type": "code",
   "execution_count": 32,
   "metadata": {},
   "outputs": [],
   "source": [
    "#remove first transaction except for the only one transaction\n",
    "Cust_aggregate = Cust_aggregate[((Cust_aggregate['Nrow']!=1) &(Cust_aggregate['Freq']>1))] "
   ]
  },
  {
   "cell_type": "code",
   "execution_count": 33,
   "metadata": {},
   "outputs": [
    {
     "data": {
      "text/html": [
       "<div>\n",
       "<style scoped>\n",
       "    .dataframe tbody tr th:only-of-type {\n",
       "        vertical-align: middle;\n",
       "    }\n",
       "\n",
       "    .dataframe tbody tr th {\n",
       "        vertical-align: top;\n",
       "    }\n",
       "\n",
       "    .dataframe thead th {\n",
       "        text-align: right;\n",
       "    }\n",
       "</style>\n",
       "<table border=\"1\" class=\"dataframe\">\n",
       "  <thead>\n",
       "    <tr style=\"text-align: right;\">\n",
       "      <th></th>\n",
       "      <th>Customer ID</th>\n",
       "      <th>Age</th>\n",
       "      <th>Return</th>\n",
       "    </tr>\n",
       "  </thead>\n",
       "  <tbody>\n",
       "    <tr>\n",
       "      <th>0</th>\n",
       "      <td>12346.0</td>\n",
       "      <td>725</td>\n",
       "      <td>17.0</td>\n",
       "    </tr>\n",
       "    <tr>\n",
       "      <th>1</th>\n",
       "      <td>12347.0</td>\n",
       "      <td>404</td>\n",
       "      <td>54.0</td>\n",
       "    </tr>\n",
       "    <tr>\n",
       "      <th>2</th>\n",
       "      <td>12348.0</td>\n",
       "      <td>438</td>\n",
       "      <td>75.0</td>\n",
       "    </tr>\n",
       "    <tr>\n",
       "      <th>3</th>\n",
       "      <td>12349.0</td>\n",
       "      <td>589</td>\n",
       "      <td>163.0</td>\n",
       "    </tr>\n",
       "    <tr>\n",
       "      <th>4</th>\n",
       "      <td>12352.0</td>\n",
       "      <td>392</td>\n",
       "      <td>16.5</td>\n",
       "    </tr>\n",
       "    <tr>\n",
       "      <th>...</th>\n",
       "      <td>...</td>\n",
       "      <td>...</td>\n",
       "      <td>...</td>\n",
       "    </tr>\n",
       "    <tr>\n",
       "      <th>4184</th>\n",
       "      <td>18281.0</td>\n",
       "      <td>577</td>\n",
       "      <td>397.0</td>\n",
       "    </tr>\n",
       "    <tr>\n",
       "      <th>4185</th>\n",
       "      <td>18282.0</td>\n",
       "      <td>126</td>\n",
       "      <td>119.0</td>\n",
       "    </tr>\n",
       "    <tr>\n",
       "      <th>4186</th>\n",
       "      <td>18283.0</td>\n",
       "      <td>658</td>\n",
       "      <td>24.0</td>\n",
       "    </tr>\n",
       "    <tr>\n",
       "      <th>4187</th>\n",
       "      <td>18286.0</td>\n",
       "      <td>723</td>\n",
       "      <td>247.0</td>\n",
       "    </tr>\n",
       "    <tr>\n",
       "      <th>4188</th>\n",
       "      <td>18287.0</td>\n",
       "      <td>571</td>\n",
       "      <td>127.0</td>\n",
       "    </tr>\n",
       "  </tbody>\n",
       "</table>\n",
       "<p>4189 rows × 3 columns</p>\n",
       "</div>"
      ],
      "text/plain": [
       "      Customer ID  Age  Return\n",
       "0         12346.0  725    17.0\n",
       "1         12347.0  404    54.0\n",
       "2         12348.0  438    75.0\n",
       "3         12349.0  589   163.0\n",
       "4         12352.0  392    16.5\n",
       "...           ...  ...     ...\n",
       "4184      18281.0  577   397.0\n",
       "4185      18282.0  126   119.0\n",
       "4186      18283.0  658    24.0\n",
       "4187      18286.0  723   247.0\n",
       "4188      18287.0  571   127.0\n",
       "\n",
       "[4189 rows x 3 columns]"
      ]
     },
     "execution_count": 33,
     "metadata": {},
     "output_type": "execute_result"
    }
   ],
   "source": [
    "Cust_aggregate['Return'] = Cust_aggregate['Return'].apply(lambda x: x.days)\n",
    "# Cust_aggregate.drop(['Invoice Date','Nrow'],axis=1, inplace=True)\n",
    "Cust_aggregate.groupby('Customer ID').agg({'Age':'min','Return':'median'}).reset_index()"
   ]
  },
  {
   "cell_type": "code",
   "execution_count": 34,
   "metadata": {},
   "outputs": [
    {
     "data": {
      "image/png": "[encoded data removed]",
      "text/plain": [
       "<Figure size 576x432 with 1 Axes>"
      ]
     },
     "metadata": {
      "needs_background": "light"
     },
     "output_type": "display_data"
    }
   ],
   "source": [
    "#distribution for Age\n",
    "\n",
    "fig, ax = plt.subplots(figsize=(8,6));\n",
    "Cust_Age.Age.hist(bins=100,ax=ax)\n",
    "ax.set_title(\"Final Distribution of Age\", fontsize=16)\n",
    "ax.set_xlabel(\"Age\", fontsize=12);\n",
    "ax.set_ylabel(\"Counts\", fontsize=12);"
   ]
  },
  {
   "cell_type": "code",
   "execution_count": 35,
   "metadata": {},
   "outputs": [
    {
     "data": {
      "image/png": "[encoded data removed]",
      "text/plain": [
       "<Figure size 576x432 with 1 Axes>"
      ]
     },
     "metadata": {
      "needs_background": "light"
     },
     "output_type": "display_data"
    }
   ],
   "source": [
    "#distribution for Return\n",
    "\n",
    "fig, ax = plt.subplots(figsize=(8,6));\n",
    "Cust_aggregate.Return.hist(bins=100,ax=ax)\n",
    "ax.set_title(\"Final Distribution of Return\", fontsize=16)\n",
    "ax.set_xlabel(\"Average Return\", fontsize=12);\n",
    "ax.set_ylabel(\"Counts\", fontsize=12);"
   ]
  },
  {
   "cell_type": "code",
   "execution_count": 36,
   "metadata": {},
   "outputs": [
    {
     "data": {
      "text/html": [
       "<div>\n",
       "<style scoped>\n",
       "    .dataframe tbody tr th:only-of-type {\n",
       "        vertical-align: middle;\n",
       "    }\n",
       "\n",
       "    .dataframe tbody tr th {\n",
       "        vertical-align: top;\n",
       "    }\n",
       "\n",
       "    .dataframe thead th {\n",
       "        text-align: right;\n",
       "    }\n",
       "</style>\n",
       "<table border=\"1\" class=\"dataframe\">\n",
       "  <thead>\n",
       "    <tr style=\"text-align: right;\">\n",
       "      <th></th>\n",
       "      <th>Customer ID</th>\n",
       "      <th>InvoiceDate</th>\n",
       "      <th>Freq</th>\n",
       "      <th>Monetary</th>\n",
       "      <th>Recency</th>\n",
       "      <th>Invoice Date</th>\n",
       "      <th>Age</th>\n",
       "      <th>Return</th>\n",
       "      <th>Nrow</th>\n",
       "    </tr>\n",
       "  </thead>\n",
       "  <tbody>\n",
       "    <tr>\n",
       "      <th>1</th>\n",
       "      <td>12346.0</td>\n",
       "      <td>2011-01-18</td>\n",
       "      <td>34</td>\n",
       "      <td>77556.46</td>\n",
       "      <td>325</td>\n",
       "      <td>2009-12-14</td>\n",
       "      <td>725</td>\n",
       "      <td>4</td>\n",
       "      <td>2</td>\n",
       "    </tr>\n",
       "    <tr>\n",
       "      <th>2</th>\n",
       "      <td>12346.0</td>\n",
       "      <td>2011-01-18</td>\n",
       "      <td>34</td>\n",
       "      <td>77556.46</td>\n",
       "      <td>325</td>\n",
       "      <td>2009-12-14</td>\n",
       "      <td>725</td>\n",
       "      <td>17</td>\n",
       "      <td>3</td>\n",
       "    </tr>\n",
       "  </tbody>\n",
       "</table>\n",
       "</div>"
      ],
      "text/plain": [
       "   Customer ID InvoiceDate  Freq  Monetary  Recency Invoice Date  Age  Return  \\\n",
       "1      12346.0  2011-01-18    34  77556.46      325   2009-12-14  725       4   \n",
       "2      12346.0  2011-01-18    34  77556.46      325   2009-12-14  725      17   \n",
       "\n",
       "   Nrow  \n",
       "1     2  \n",
       "2     3  "
      ]
     },
     "execution_count": 36,
     "metadata": {},
     "output_type": "execute_result"
    }
   ],
   "source": [
    "Cust_aggregate.head(2)"
   ]
  },
  {
   "cell_type": "markdown",
   "metadata": {},
   "source": [
    "### Segmentasi RFM-AR"
   ]
  },
  {
   "cell_type": "code",
   "execution_count": 37,
   "metadata": {},
   "outputs": [],
   "source": [
    "RFM_scores = Cust_aggregate"
   ]
  },
  {
   "cell_type": "code",
   "execution_count": 38,
   "metadata": {},
   "outputs": [],
   "source": [
    "RFM_scores['R']    = pd.qcut(RFM_scores['Recency'], 3, labels=[3, 2, 1])\n",
    "RFM_scores['F']    = pd.qcut(RFM_scores['Freq'], 3, labels=[1, 2, 3])\n",
    "RFM_scores['M']    = pd.qcut(RFM_scores['Monetary'], 3, labels=[1, 2, 3])\n",
    "RFM_scores['A']    = pd.qcut(RFM_scores['Age'], 3, labels=[1, 2, 3])\n",
    "RFM_scores['Re']    = pd.qcut(RFM_scores['Return'].rank(method='first'), 3, labels=[3, 2, 1])"
   ]
  },
  {
   "cell_type": "code",
   "execution_count": 39,
   "metadata": {},
   "outputs": [
    {
     "name": "stdout",
     "output_type": "stream",
     "text": [
      "<class 'pandas.core.frame.DataFrame'>\n",
      "Int64Index: 27231 entries, 1 to 33111\n",
      "Data columns (total 14 columns):\n",
      " #   Column        Non-Null Count  Dtype   \n",
      "---  ------        --------------  -----   \n",
      " 0   Customer ID   27231 non-null  float64 \n",
      " 1   InvoiceDate   27231 non-null  object  \n",
      " 2   Freq          27231 non-null  int64   \n",
      " 3   Monetary      27231 non-null  float64 \n",
      " 4   Recency       27231 non-null  int64   \n",
      " 5   Invoice Date  27231 non-null  object  \n",
      " 6   Age           27231 non-null  int64   \n",
      " 7   Return        27231 non-null  int64   \n",
      " 8   Nrow          27231 non-null  int64   \n",
      " 9   R             27231 non-null  category\n",
      " 10  F             27231 non-null  category\n",
      " 11  M             27231 non-null  category\n",
      " 12  A             27231 non-null  category\n",
      " 13  Re            27231 non-null  category\n",
      "dtypes: category(5), float64(2), int64(5), object(2)\n",
      "memory usage: 2.2+ MB\n"
     ]
    }
   ],
   "source": [
    "RFM_scores.info()"
   ]
  },
  {
   "cell_type": "code",
   "execution_count": 40,
   "metadata": {},
   "outputs": [
    {
     "data": {
      "text/html": [
       "<div>\n",
       "<style scoped>\n",
       "    .dataframe tbody tr th:only-of-type {\n",
       "        vertical-align: middle;\n",
       "    }\n",
       "\n",
       "    .dataframe tbody tr th {\n",
       "        vertical-align: top;\n",
       "    }\n",
       "\n",
       "    .dataframe thead tr th {\n",
       "        text-align: left;\n",
       "    }\n",
       "\n",
       "    .dataframe thead tr:last-of-type th {\n",
       "        text-align: right;\n",
       "    }\n",
       "</style>\n",
       "<table border=\"1\" class=\"dataframe\">\n",
       "  <thead>\n",
       "    <tr>\n",
       "      <th></th>\n",
       "      <th colspan=\"8\" halign=\"left\">Freq</th>\n",
       "      <th colspan=\"5\" halign=\"left\">Monetary</th>\n",
       "      <th colspan=\"8\" halign=\"left\">Recency</th>\n",
       "    </tr>\n",
       "    <tr>\n",
       "      <th></th>\n",
       "      <th>count</th>\n",
       "      <th>mean</th>\n",
       "      <th>std</th>\n",
       "      <th>min</th>\n",
       "      <th>25%</th>\n",
       "      <th>50%</th>\n",
       "      <th>75%</th>\n",
       "      <th>max</th>\n",
       "      <th>count</th>\n",
       "      <th>mean</th>\n",
       "      <th>...</th>\n",
       "      <th>75%</th>\n",
       "      <th>max</th>\n",
       "      <th>count</th>\n",
       "      <th>mean</th>\n",
       "      <th>std</th>\n",
       "      <th>min</th>\n",
       "      <th>25%</th>\n",
       "      <th>50%</th>\n",
       "      <th>75%</th>\n",
       "      <th>max</th>\n",
       "    </tr>\n",
       "    <tr>\n",
       "      <th>R</th>\n",
       "      <th></th>\n",
       "      <th></th>\n",
       "      <th></th>\n",
       "      <th></th>\n",
       "      <th></th>\n",
       "      <th></th>\n",
       "      <th></th>\n",
       "      <th></th>\n",
       "      <th></th>\n",
       "      <th></th>\n",
       "      <th></th>\n",
       "      <th></th>\n",
       "      <th></th>\n",
       "      <th></th>\n",
       "      <th></th>\n",
       "      <th></th>\n",
       "      <th></th>\n",
       "      <th></th>\n",
       "      <th></th>\n",
       "      <th></th>\n",
       "      <th></th>\n",
       "    </tr>\n",
       "  </thead>\n",
       "  <tbody>\n",
       "    <tr>\n",
       "      <th>3</th>\n",
       "      <td>9814.0</td>\n",
       "      <td>1551.662523</td>\n",
       "      <td>2733.308210</td>\n",
       "      <td>2.0</td>\n",
       "      <td>244.0</td>\n",
       "      <td>524.0</td>\n",
       "      <td>1124.0</td>\n",
       "      <td>12890.0</td>\n",
       "      <td>9814.0</td>\n",
       "      <td>45094.276181</td>\n",
       "      <td>...</td>\n",
       "      <td>35540.53</td>\n",
       "      <td>608821.65</td>\n",
       "      <td>9814.0</td>\n",
       "      <td>3.443550</td>\n",
       "      <td>2.860317</td>\n",
       "      <td>0.0</td>\n",
       "      <td>1.0</td>\n",
       "      <td>3.0</td>\n",
       "      <td>5.0</td>\n",
       "      <td>9.0</td>\n",
       "    </tr>\n",
       "    <tr>\n",
       "      <th>2</th>\n",
       "      <td>8458.0</td>\n",
       "      <td>427.705368</td>\n",
       "      <td>456.665129</td>\n",
       "      <td>2.0</td>\n",
       "      <td>142.0</td>\n",
       "      <td>276.0</td>\n",
       "      <td>556.0</td>\n",
       "      <td>3250.0</td>\n",
       "      <td>8458.0</td>\n",
       "      <td>9682.205303</td>\n",
       "      <td>...</td>\n",
       "      <td>10223.06</td>\n",
       "      <td>144458.37</td>\n",
       "      <td>8458.0</td>\n",
       "      <td>21.696027</td>\n",
       "      <td>8.646989</td>\n",
       "      <td>10.0</td>\n",
       "      <td>15.0</td>\n",
       "      <td>21.0</td>\n",
       "      <td>29.0</td>\n",
       "      <td>40.0</td>\n",
       "    </tr>\n",
       "    <tr>\n",
       "      <th>1</th>\n",
       "      <td>8959.0</td>\n",
       "      <td>192.758790</td>\n",
       "      <td>241.349629</td>\n",
       "      <td>2.0</td>\n",
       "      <td>57.0</td>\n",
       "      <td>118.0</td>\n",
       "      <td>241.0</td>\n",
       "      <td>2796.0</td>\n",
       "      <td>8959.0</td>\n",
       "      <td>4220.768958</td>\n",
       "      <td>...</td>\n",
       "      <td>4467.32</td>\n",
       "      <td>77556.46</td>\n",
       "      <td>8959.0</td>\n",
       "      <td>180.368010</td>\n",
       "      <td>145.981964</td>\n",
       "      <td>42.0</td>\n",
       "      <td>66.0</td>\n",
       "      <td>117.0</td>\n",
       "      <td>264.0</td>\n",
       "      <td>736.0</td>\n",
       "    </tr>\n",
       "  </tbody>\n",
       "</table>\n",
       "<p>3 rows × 24 columns</p>\n",
       "</div>"
      ],
      "text/plain": [
       "     Freq                                                                \\\n",
       "    count         mean          std  min    25%    50%     75%      max   \n",
       "R                                                                         \n",
       "3  9814.0  1551.662523  2733.308210  2.0  244.0  524.0  1124.0  12890.0   \n",
       "2  8458.0   427.705368   456.665129  2.0  142.0  276.0   556.0   3250.0   \n",
       "1  8959.0   192.758790   241.349629  2.0   57.0  118.0   241.0   2796.0   \n",
       "\n",
       "  Monetary                ...                      Recency              \\\n",
       "     count          mean  ...       75%        max   count        mean   \n",
       "R                         ...                                            \n",
       "3   9814.0  45094.276181  ...  35540.53  608821.65  9814.0    3.443550   \n",
       "2   8458.0   9682.205303  ...  10223.06  144458.37  8458.0   21.696027   \n",
       "1   8959.0   4220.768958  ...   4467.32   77556.46  8959.0  180.368010   \n",
       "\n",
       "                                                \n",
       "          std   min   25%    50%    75%    max  \n",
       "R                                               \n",
       "3    2.860317   0.0   1.0    3.0    5.0    9.0  \n",
       "2    8.646989  10.0  15.0   21.0   29.0   40.0  \n",
       "1  145.981964  42.0  66.0  117.0  264.0  736.0  \n",
       "\n",
       "[3 rows x 24 columns]"
      ]
     },
     "execution_count": 40,
     "metadata": {},
     "output_type": "execute_result"
    }
   ],
   "source": [
    "RFM_scores[['R','Freq','Monetary','Recency']].groupby('R').describe()"
   ]
  },
  {
   "cell_type": "code",
   "execution_count": 41,
   "metadata": {},
   "outputs": [],
   "source": [
    "RFM_scores['R'] = RFM_scores['R'].astype('int')\n",
    "RFM_scores['F'] = RFM_scores['F'].astype('int')\n",
    "RFM_scores['M'] = RFM_scores['M'].astype('int')\n",
    "RFM_scores['A'] = RFM_scores['A'].astype('int')\n",
    "RFM_scores['Re'] = RFM_scores['Re'].astype('int')"
   ]
  },
  {
   "cell_type": "code",
   "execution_count": 42,
   "metadata": {},
   "outputs": [],
   "source": [
    "RFM_scores['rfm_score'] = RFM_scores['R'] + RFM_scores['F'] + RFM_scores['M']+ RFM_scores['A']+ RFM_scores['Re']"
   ]
  },
  {
   "cell_type": "code",
   "execution_count": 43,
   "metadata": {},
   "outputs": [],
   "source": [
    "RFM_scores['rfm_score_str'] = RFM_scores['R'].map(str) + RFM_scores['F'].map(str) + RFM_scores['M'].map(str)+ RFM_scores['A'].map(str)+ RFM_scores['Re'].map(str)"
   ]
  },
  {
   "cell_type": "code",
   "execution_count": 44,
   "metadata": {},
   "outputs": [
    {
     "data": {
      "text/plain": [
       "array(['11323', '11322', '11321', '32211', '32212', '11111', '11112',\n",
       "       '22211', '22212', '21113', '21112', '21111', '21211', '21212',\n",
       "       '21213', '22311', '31231', '12233', '12231', '12232', '12221',\n",
       "       '12223', '12222', '11121', '32232', '32233', '32231', '31112',\n",
       "       '11122', '11211', '11212', '12211', '22323', '22321', '22322',\n",
       "       '31111', '31113', '22121', '22123', '11113', '22213', '22221',\n",
       "       '12311', '12313', '12312', '23313', '23312', '23311', '32111',\n",
       "       '32113', '32112', '11213', '33313', '33312', '33311', '11331',\n",
       "       '33333', '33331', '33332', '11312', '11313', '11311', '11221',\n",
       "       '23322', '23321', '23323', '22312', '22313', '12322', '12323',\n",
       "       '21222', '21221', '21223', '23223', '23221', '23222', '11232',\n",
       "       '11233', '11231', '22111', '22112', '22232', '22233', '22231',\n",
       "       '32322', '32321', '32323', '11222', '21121', '11131', '23332',\n",
       "       '23333', '23331', '11123', '32213', '21321', '21322', '22131',\n",
       "       '22132', '21122', '22222', '22223', '32221', '32223', '32222',\n",
       "       '21232', '21233', '21231', '33321', '33323', '33322', '12212',\n",
       "       '13212', '13211', '13213', '31222', '31223', '31221', '12321',\n",
       "       '31122', '31121', '33213', '33212', '33211', '32332', '32331',\n",
       "       '32333', '11223', '12331', '12332', '32133', '32132', '32131',\n",
       "       '13233', '13232', '13231', '31312', '31313', '31233', '31232',\n",
       "       '11132', '11133', '12122', '12121', '22333', '22332', '22331',\n",
       "       '22122', '21133', '21132', '21131', '33222', '33223', '33221',\n",
       "       '12123', '11332', '11333', '12111', '12112', '12113', '31322',\n",
       "       '31323', '31321', '31211', '31213', '12213', '12131', '32311',\n",
       "       '32312', '32313', '13333', '13332', '22113', '23211', '23212',\n",
       "       '23213', '23233', '23232', '23231', '12333', '32121', '32122',\n",
       "       '32123', '12132', '12133', '22133', '33233', '33232', '33231',\n",
       "       '31212', '21311', '21312', '21313', '13221', '33113', '13331',\n",
       "       '21323', '13222', '13223', '33131', '33132', '13322', '13321',\n",
       "       '13323', '33111', '23112', '23111', '23113', '33112', '21123',\n",
       "       '23123', '23122', '23121', '23131', '23133', '23132', '31131',\n",
       "       '31133', '31123', '21333', '21332', '21331', '31331', '31332',\n",
       "       '31333', '31132', '33122', '33123', '33121', '13113', '13112',\n",
       "       '13111', '31311', '13122', '13121', '33133'], dtype=object)"
      ]
     },
     "execution_count": 44,
     "metadata": {},
     "output_type": "execute_result"
    }
   ],
   "source": [
    "RFM_scores['rfm_score_str'].unique()"
   ]
  },
  {
   "cell_type": "code",
   "execution_count": 45,
   "metadata": {},
   "outputs": [
    {
     "data": {
      "text/plain": [
       "236"
      ]
     },
     "execution_count": 45,
     "metadata": {},
     "output_type": "execute_result"
    }
   ],
   "source": [
    "RFM_scores['rfm_score_str'].nunique()"
   ]
  },
  {
   "cell_type": "code",
   "execution_count": 46,
   "metadata": {},
   "outputs": [
    {
     "data": {
      "text/plain": [
       "array([10,  9,  8,  5,  6,  7, 11, 12, 13, 15, 14])"
      ]
     },
     "execution_count": 46,
     "metadata": {},
     "output_type": "execute_result"
    }
   ],
   "source": [
    "RFM_scores['rfm_score'].unique()"
   ]
  },
  {
   "cell_type": "code",
   "execution_count": 47,
   "metadata": {},
   "outputs": [],
   "source": [
    "label = {5:'At Risk',6:'At Risk',7:'Need Attention',8:'Need Attention',9:'Need Attention',10:'Need Attention',11:'Potential Loyalist',12:'Potential Loyalist',13:'Champion',14:'Champion',15:'Champion'}"
   ]
  },
  {
   "cell_type": "code",
   "execution_count": 48,
   "metadata": {},
   "outputs": [],
   "source": [
    "RFM_scores['label'] = RFM_scores['rfm_score'].map(label)"
   ]
  },
  {
   "cell_type": "code",
   "execution_count": 49,
   "metadata": {},
   "outputs": [
    {
     "data": {
      "text/html": [
       "<div>\n",
       "<style scoped>\n",
       "    .dataframe tbody tr th:only-of-type {\n",
       "        vertical-align: middle;\n",
       "    }\n",
       "\n",
       "    .dataframe tbody tr th {\n",
       "        vertical-align: top;\n",
       "    }\n",
       "\n",
       "    .dataframe thead th {\n",
       "        text-align: right;\n",
       "    }\n",
       "</style>\n",
       "<table border=\"1\" class=\"dataframe\">\n",
       "  <thead>\n",
       "    <tr style=\"text-align: right;\">\n",
       "      <th></th>\n",
       "      <th>Customer ID</th>\n",
       "      <th>InvoiceDate</th>\n",
       "      <th>Freq</th>\n",
       "      <th>Monetary</th>\n",
       "      <th>Recency</th>\n",
       "      <th>Invoice Date</th>\n",
       "      <th>Age</th>\n",
       "      <th>Return</th>\n",
       "      <th>Nrow</th>\n",
       "      <th>R</th>\n",
       "      <th>F</th>\n",
       "      <th>M</th>\n",
       "      <th>A</th>\n",
       "      <th>Re</th>\n",
       "      <th>rfm_score</th>\n",
       "      <th>rfm_score_str</th>\n",
       "      <th>label</th>\n",
       "    </tr>\n",
       "  </thead>\n",
       "  <tbody>\n",
       "    <tr>\n",
       "      <th>1</th>\n",
       "      <td>12346.0</td>\n",
       "      <td>2011-01-18</td>\n",
       "      <td>34</td>\n",
       "      <td>77556.46</td>\n",
       "      <td>325</td>\n",
       "      <td>2009-12-14</td>\n",
       "      <td>725</td>\n",
       "      <td>4</td>\n",
       "      <td>2</td>\n",
       "      <td>1</td>\n",
       "      <td>1</td>\n",
       "      <td>3</td>\n",
       "      <td>2</td>\n",
       "      <td>3</td>\n",
       "      <td>10</td>\n",
       "      <td>11323</td>\n",
       "      <td>Need Attention</td>\n",
       "    </tr>\n",
       "    <tr>\n",
       "      <th>2</th>\n",
       "      <td>12346.0</td>\n",
       "      <td>2011-01-18</td>\n",
       "      <td>34</td>\n",
       "      <td>77556.46</td>\n",
       "      <td>325</td>\n",
       "      <td>2009-12-14</td>\n",
       "      <td>725</td>\n",
       "      <td>17</td>\n",
       "      <td>3</td>\n",
       "      <td>1</td>\n",
       "      <td>1</td>\n",
       "      <td>3</td>\n",
       "      <td>2</td>\n",
       "      <td>3</td>\n",
       "      <td>10</td>\n",
       "      <td>11323</td>\n",
       "      <td>Need Attention</td>\n",
       "    </tr>\n",
       "  </tbody>\n",
       "</table>\n",
       "</div>"
      ],
      "text/plain": [
       "   Customer ID InvoiceDate  Freq  Monetary  Recency Invoice Date  Age  Return  \\\n",
       "1      12346.0  2011-01-18    34  77556.46      325   2009-12-14  725       4   \n",
       "2      12346.0  2011-01-18    34  77556.46      325   2009-12-14  725      17   \n",
       "\n",
       "   Nrow  R  F  M  A  Re  rfm_score rfm_score_str           label  \n",
       "1     2  1  1  3  2   3         10         11323  Need Attention  \n",
       "2     3  1  1  3  2   3         10         11323  Need Attention  "
      ]
     },
     "execution_count": 49,
     "metadata": {},
     "output_type": "execute_result"
    }
   ],
   "source": [
    "RFM_scores.head(2)"
   ]
  },
  {
   "cell_type": "code",
   "execution_count": 50,
   "metadata": {},
   "outputs": [
    {
     "data": {
      "image/png": "[encoded data removed]",
      "text/plain": [
       "<Figure size 720x432 with 1 Axes>"
      ]
     },
     "metadata": {
      "needs_background": "light"
     },
     "output_type": "display_data"
    }
   ],
   "source": [
    "fig, ax = plt.subplots(figsize=(10,6));\n",
    "sns.boxplot(x='label', y = 'Recency', data = RFM_scores)\n",
    "plt.show()"
   ]
  },
  {
   "cell_type": "code",
   "execution_count": 51,
   "metadata": {},
   "outputs": [
    {
     "data": {
      "image/png": "[encoded data removed]",
      "text/plain": [
       "<Figure size 720x432 with 1 Axes>"
      ]
     },
     "metadata": {
      "needs_background": "light"
     },
     "output_type": "display_data"
    }
   ],
   "source": [
    "fig, ax = plt.subplots(figsize=(10,6));\n",
    "sns.boxplot(x='label', y = 'Freq', data = RFM_scores)\n",
    "plt.show()"
   ]
  },
  {
   "cell_type": "code",
   "execution_count": 52,
   "metadata": {},
   "outputs": [
    {
     "data": {
      "image/png": "[encoded data removed]",
      "text/plain": [
       "<Figure size 720x432 with 1 Axes>"
      ]
     },
     "metadata": {
      "needs_background": "light"
     },
     "output_type": "display_data"
    }
   ],
   "source": [
    "fig, ax = plt.subplots(figsize=(10,6));\n",
    "sns.boxplot(x='label', y = 'Monetary', data = RFM_scores)\n",
    "plt.show()"
   ]
  },
  {
   "cell_type": "code",
   "execution_count": null,
   "metadata": {},
   "outputs": [],
   "source": []
  }
 ],
 "metadata": {
  "kernelspec": {
   "display_name": "Python 3",
   "language": "python",
   "name": "python3"
  },
  "language_info": {
   "codemirror_mode": {
    "name": "ipython",
    "version": 3
   },
   "file_extension": ".py",
   "mimetype": "text/x-python",
   "name": "python",
   "nbconvert_exporter": "python",
   "pygments_lexer": "ipython3",
   "version": "3.7.6"
  }
 },
 "nbformat": 4,
 "nbformat_minor": 4
}
